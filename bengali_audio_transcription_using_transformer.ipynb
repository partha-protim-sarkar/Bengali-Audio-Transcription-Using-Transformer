{
  "cells": [
    {
      "cell_type": "markdown",
      "source": [
        "## 1. Install Dependencies and Setup"
      ],
      "metadata": {
        "id": "1ACVwNn3AIDL"
      }
    },
    {
      "cell_type": "code",
      "source": [
        "# Original repository - https://github.com/menon92/BangalASR\n",
        "!sudo apt install -qq sox -y"
      ],
      "metadata": {
        "id": "HL_J3IE5_A9J"
      },
      "execution_count": null,
      "outputs": []
    },
    {
      "cell_type": "code",
      "source": [
        "import os\n",
        "import random\n",
        "from glob import glob\n",
        "from tqdm import tqdm\n",
        "from multiprocessing import Pool\n",
        "import subprocess\n",
        "import librosa\n",
        "\n",
        "import tensorflow as tf\n",
        "from tensorflow import keras\n",
        "from tensorflow.keras import layers\n",
        "\n",
        "\n",
        "print(\"TensorFlow:\", tf.__version__)\n",
        "\n",
        "# Set seed for experiment reproducibility\n",
        "seed = 777\n",
        "tf.random.set_seed(seed)"
      ],
      "metadata": {
        "id": "Jl8QQ8opAkNl"
      },
      "execution_count": null,
      "outputs": []
    },
    {
      "cell_type": "markdown",
      "source": [
        "## 2. Download and Prepare Data"
      ],
      "metadata": {
        "id": "WlFgDR3_A2oV"
      }
    },
    {
      "cell_type": "code",
      "source": [
        "!wget -q https://www.openslr.org/resources/53/asr_bengali_0.zip\n",
        "# !wget -q https://www.openslr.org/resources/53/asr_bengali_1.zip\n",
        "# !wget -q https://www.openslr.org/resources/53/asr_bengali_2.zip\n",
        "# !wget -q https://www.openslr.org/resources/53/asr_bengali_3.zip\n",
        "# !wget -q https://www.openslr.org/resources/53/asr_bengali_4.zip"
      ],
      "metadata": {
        "id": "zNtXq2IRBP6L"
      },
      "execution_count": null,
      "outputs": []
    },
    {
      "cell_type": "code",
      "source": [
        "extract_path = '/content/drive/MyDrive/Datasets/Bengali/'\n",
        "download_path = '/content/asr_bengali_1.zip'"
      ],
      "metadata": {
        "id": "1Xc1wt3sBTos"
      },
      "execution_count": null,
      "outputs": []
    },
    {
      "cell_type": "code",
      "source": [
        "!unzip -o -q $download_path -d $extract_path\n",
        "# !unzip -o -q asr_bengali_1.zip\n",
        "# !unzip -o asr_bengali_2.zip\n",
        "# !unzip -o -q asr_bengali_3.zip\n",
        "# !unzip -o asr_bengali_4.zip"
      ],
      "metadata": {
        "id": "UPiCDA3fBYNW"
      },
      "execution_count": null,
      "outputs": []
    },
    {
      "cell_type": "code",
      "source": [
        "utt_path = '/content/drive/MyDrive/Datasets/Bengali/asr_bengali/utt_spk_text.tsv'\n",
        "flac_audio_dir = '/content/drive/MyDrive/Datasets/Bengali/asr_bengali/data'\n",
        "\n",
        "max_target_len = 30 # all transcripts in out data are < 200 characters"
      ],
      "metadata": {
        "id": "nFnBDjnZBdiv"
      },
      "execution_count": null,
      "outputs": []
    },
    {
      "cell_type": "markdown",
      "source": [
        "## 3. Peak small data from large datasets"
      ],
      "metadata": {
        "id": "eIZ2Y8mQBzZA"
      }
    },
    {
      "cell_type": "code",
      "source": [
        "FILTER_CHARS = [\n",
        "    '\"', '%', \"'\", ',', '-', '.', '/', '\\x93', '\\x94', '\\u200c', '\\u200d', '‘',\n",
        "    '’', '“', '”', '…', '!', ':', ';', '?', 'œ', '।', '–'\n",
        "]\n",
        "\n",
        "ENGLISH = set([\n",
        "    '0', '1', '2', '3', '4', '5', 'B', 'L', 'T', 'a', 'b', 'c', 'd', 'e', 'f',\n",
        "    'g', 'h', 'i', 'l', 'm', 'n', 'o', 'p', 'r', 's', 't', 'u', 'v', 'w', 'x', 'z',\n",
        "])\n",
        "\n",
        "\n",
        "def clean(text):\n",
        "    '''Clean text'''\n",
        "    for c in FILTER_CHARS:\n",
        "        if c in text:\n",
        "            text = text.replace(c, '')\n",
        "    return text\n",
        "\n",
        "\n",
        "def is_contrain_english_chars(text):\n",
        "    if ENGLISH.intersection(set(text)):\n",
        "        return True\n",
        "    return False\n",
        "\n",
        "def convert_flac_to_wav(f):\n",
        "    cmd = f\"sox {f} {f.split('.')[0] + '.wav'}\"\n",
        "    os.system(cmd)\n",
        "\n",
        "def get_data(utt_path, flac_audio_dir):\n",
        "    '''Get data from utt, flac audio dir\n",
        "    '''\n",
        "    _take = 5000\n",
        "    flac_audio_files = glob(flac_audio_dir + '/*/*.flac')[:_take*2]\n",
        "\n",
        "    print(f\"Converting flac to wav\")\n",
        "    with Pool(os.cpu_count()) as p:\n",
        "      r = list(tqdm(p.imap(\n",
        "          convert_flac_to_wav, flac_audio_files), total=len(flac_audio_files)))\n",
        "    print('done')\n",
        "\n",
        "    flac_list = [\n",
        "        os.path.splitext(os.path.basename(_file))[0]\n",
        "        for _file in flac_audio_files\n",
        "    ]\n",
        "    flac_set = set(flac_list)\n",
        "\n",
        "    data = []\n",
        "    unique_chars = set()\n",
        "    max_text_len = 0\n",
        "    max_text = ''\n",
        "    en_bn_mixed = 0\n",
        "    takes = 0\n",
        "    audio_duration = 0\n",
        "    unique_words = set()\n",
        "    with open(utt_path, 'r') as fp:\n",
        "        lines = fp.readlines()\n",
        "        for line in tqdm(lines, total=len(lines)):\n",
        "            line = line.strip(' \\n')\n",
        "            line = line.split('\\t')\n",
        "            file_name, text= line[0], line[2]\n",
        "\n",
        "            if takes >= _take:\n",
        "                break\n",
        "\n",
        "            if file_name in flac_set:\n",
        "                text = clean(text)\n",
        "                # skip text which has > max_target_len chars\n",
        "                if len(text) > max_target_len:\n",
        "                    continue\n",
        "\n",
        "                # skip english text\n",
        "                if is_contrain_english_chars(text):\n",
        "                    en_bn_mixed += 1\n",
        "                    continue\n",
        "\n",
        "                file_abs_path = flac_audio_files[flac_list.index(file_name)].split('.')[0] + '.wav'\n",
        "                data.append({'audio': file_abs_path, 'text': text})\n",
        "                duration = librosa.get_duration(filename=file_abs_path)\n",
        "                audio_duration += duration\n",
        "                # create unique chars set\n",
        "                for c in text:\n",
        "                    unique_chars.add(c)\n",
        "\n",
        "                words = text.split()\n",
        "                for w in words:\n",
        "                    unique_words.add(w)\n",
        "\n",
        "                # find max text sequence lenght, text\n",
        "                text_len = len(text)\n",
        "                if max_text_len < text_len:\n",
        "                    max_text_len = text_len\n",
        "                    max_text = text\n",
        "\n",
        "                takes += 1\n",
        "\n",
        "    unique_chars = sorted(unique_chars)\n",
        "\n",
        "    print(f'flac audio files: {len(flac_audio_files)}')\n",
        "    print(f'flac_dic         : {len(flac_set)}')\n",
        "    print(f'utt entry       : {len(lines)}')\n",
        "    print(f'unique chars  : {len(unique_chars)}')\n",
        "    print(f'data             : {len(data)}')\n",
        "    print(f\"max text length : {max_text_len}\")\n",
        "    print(f'max text          : {max_text}')\n",
        "    print(f'en bn mixed     : {en_bn_mixed}')\n",
        "    print(f\"Total unique words: {len(unique_words)}\")\n",
        "    print(f\"audio duration: {audio_duration / 3600:.3f} hr\")\n",
        "\n",
        "    return data, unique_chars"
      ],
      "metadata": {
        "id": "7NiEZA6FB3q0"
      },
      "execution_count": null,
      "outputs": []
    },
    {
      "cell_type": "markdown",
      "source": [
        "## 4. Build Transformer Model"
      ],
      "metadata": {
        "id": "6hBSStHeCqAQ"
      }
    },
    {
      "cell_type": "code",
      "source": [
        "class TokenEmbedding(layers.Layer):\n",
        "    def __init__(self, num_vocab=1000, maxlen=100, num_hid=64):\n",
        "        super().__init__()\n",
        "        self.emb = tf.keras.layers.Embedding(num_vocab, num_hid)\n",
        "        self.pos_emb = layers.Embedding(input_dim=maxlen, output_dim=num_hid)\n",
        "\n",
        "    def call(self, x):\n",
        "        maxlen = tf.shape(x)[-1]\n",
        "        x = self.emb(x)\n",
        "        positions = tf.range(start=0, limit=maxlen, delta=1)\n",
        "        positions = self.pos_emb(positions)\n",
        "        return x + positions\n",
        "\n",
        "\n",
        "class SpeechFeatureEmbedding(layers.Layer):\n",
        "    def __init__(self, num_hid=64, maxlen=100):\n",
        "        super().__init__()\n",
        "        self.conv1 = tf.keras.layers.Conv1D(\n",
        "            num_hid, 11, strides=2, padding=\"same\", activation=\"relu\"\n",
        "        )\n",
        "        self.conv2 = tf.keras.layers.Conv1D(\n",
        "            num_hid, 11, strides=2, padding=\"same\", activation=\"relu\"\n",
        "        )\n",
        "        self.conv3 = tf.keras.layers.Conv1D(\n",
        "            num_hid, 11, strides=2, padding=\"same\", activation=\"relu\"\n",
        "        )\n",
        "        self.pos_emb = layers.Embedding(input_dim=maxlen, output_dim=num_hid)\n",
        "\n",
        "    def call(self, x):\n",
        "        x = self.conv1(x)\n",
        "        x = self.conv2(x)\n",
        "        return self.conv3(x)\n",
        "\n",
        "\n",
        "class TransformerEncoder(layers.Layer):\n",
        "    def __init__(self, embed_dim, num_heads, feed_forward_dim, rate=0.1):\n",
        "        super().__init__()\n",
        "        self.att = layers.MultiHeadAttention(num_heads=num_heads, key_dim=embed_dim)\n",
        "        self.ffn = keras.Sequential(\n",
        "            [\n",
        "                layers.Dense(feed_forward_dim, activation=\"relu\"),\n",
        "                layers.Dense(embed_dim),\n",
        "            ]\n",
        "        )\n",
        "        self.layernorm1 = layers.LayerNormalization(epsilon=1e-6)\n",
        "        self.layernorm2 = layers.LayerNormalization(epsilon=1e-6)\n",
        "        self.dropout1 = layers.Dropout(rate)\n",
        "        self.dropout2 = layers.Dropout(rate)\n",
        "\n",
        "    def call(self, inputs, training):\n",
        "        attn_output = self.att(inputs, inputs)\n",
        "        attn_output = self.dropout1(attn_output, training=training)\n",
        "        out1 = self.layernorm1(inputs + attn_output)\n",
        "        ffn_output = self.ffn(out1)\n",
        "        ffn_output = self.dropout2(ffn_output, training=training)\n",
        "        return self.layernorm2(out1 + ffn_output)\n",
        "\n",
        "\n",
        "class TransformerDecoder(layers.Layer):\n",
        "    def __init__(self, embed_dim, num_heads, feed_forward_dim, dropout_rate=0.1):\n",
        "        super().__init__()\n",
        "        self.layernorm1 = layers.LayerNormalization(epsilon=1e-6)\n",
        "        self.layernorm2 = layers.LayerNormalization(epsilon=1e-6)\n",
        "        self.layernorm3 = layers.LayerNormalization(epsilon=1e-6)\n",
        "        self.self_att = layers.MultiHeadAttention(\n",
        "            num_heads=num_heads, key_dim=embed_dim\n",
        "        )\n",
        "        self.enc_att = layers.MultiHeadAttention(num_heads=num_heads, key_dim=embed_dim)\n",
        "        self.self_dropout = layers.Dropout(0.5)\n",
        "        self.enc_dropout = layers.Dropout(0.1)\n",
        "        self.ffn_dropout = layers.Dropout(0.1)\n",
        "        self.ffn = keras.Sequential(\n",
        "            [\n",
        "                layers.Dense(feed_forward_dim, activation=\"relu\"),\n",
        "                layers.Dense(embed_dim),\n",
        "            ]\n",
        "        )\n",
        "\n",
        "    def causal_attention_mask(self, batch_size, n_dest, n_src, dtype):\n",
        "        \"\"\"Masks the upper half of the dot product matrix in self attention.\n",
        "\n",
        "        This prevents flow of information from future tokens to current token.\n",
        "        1's in the lower triangle, counting from the lower right corner.\n",
        "        \"\"\"\n",
        "        i = tf.range(n_dest)[:, None]\n",
        "        j = tf.range(n_src)\n",
        "        m = i >= j - n_src + n_dest\n",
        "        mask = tf.cast(m, dtype)\n",
        "        mask = tf.reshape(mask, [1, n_dest, n_src])\n",
        "        mult = tf.concat(\n",
        "            [tf.expand_dims(batch_size, -1), tf.constant([1, 1], dtype=tf.int32)], 0\n",
        "        )\n",
        "        return tf.tile(mask, mult)\n",
        "\n",
        "    def call(self, enc_out, target):\n",
        "        input_shape = tf.shape(target)\n",
        "        batch_size = input_shape[0]\n",
        "        seq_len = input_shape[1]\n",
        "        causal_mask = self.causal_attention_mask(batch_size, seq_len, seq_len, tf.bool)\n",
        "        target_att = self.self_att(target, target, attention_mask=causal_mask)\n",
        "        target_norm = self.layernorm1(target + self.self_dropout(target_att))\n",
        "        enc_out = self.enc_att(target_norm, enc_out)\n",
        "        enc_out_norm = self.layernorm2(self.enc_dropout(enc_out) + target_norm)\n",
        "        ffn_out = self.ffn(enc_out_norm)\n",
        "        ffn_out_norm = self.layernorm3(enc_out_norm + self.ffn_dropout(ffn_out))\n",
        "        return ffn_out_norm\n",
        "\n",
        "\n",
        "class Transformer(keras.Model):\n",
        "    def __init__(\n",
        "        self,\n",
        "        num_hid=64,\n",
        "        num_head=2,\n",
        "        num_feed_forward=128,\n",
        "        source_maxlen=100,\n",
        "        target_maxlen=100,\n",
        "        num_layers_enc=4,\n",
        "        num_layers_dec=1,\n",
        "        num_classes=10,\n",
        "    ):\n",
        "        super().__init__()\n",
        "        self.loss_metric = keras.metrics.Mean(name=\"loss\")\n",
        "        self.accuracy_metric = keras.metrics.SparseCategoricalAccuracy(name=\"accuracy\")\n",
        "\n",
        "        self.num_layers_enc = num_layers_enc\n",
        "        self.num_layers_dec = num_layers_dec\n",
        "        self.target_maxlen = target_maxlen\n",
        "        self.num_classes = num_classes\n",
        "\n",
        "        self.enc_input = SpeechFeatureEmbedding(num_hid=num_hid, maxlen=source_maxlen)\n",
        "        self.dec_input = TokenEmbedding(\n",
        "            num_vocab=num_classes, maxlen=target_maxlen, num_hid=num_hid\n",
        "        )\n",
        "\n",
        "        self.encoder = keras.Sequential(\n",
        "            [self.enc_input]\n",
        "            + [\n",
        "                TransformerEncoder(num_hid, num_head, num_feed_forward)\n",
        "                for _ in range(num_layers_enc)\n",
        "            ]\n",
        "        )\n",
        "\n",
        "        for i in range(num_layers_dec):\n",
        "            setattr(\n",
        "                self,\n",
        "                f\"dec_layer_{i}\",\n",
        "                TransformerDecoder(num_hid, num_head, num_feed_forward),\n",
        "            )\n",
        "\n",
        "        self.classifier = layers.Dense(num_classes, activation='softmax')\n",
        "\n",
        "    def decode(self, enc_out, target):\n",
        "        y = self.dec_input(target)\n",
        "        for i in range(self.num_layers_dec):\n",
        "            y = getattr(self, f\"dec_layer_{i}\")(enc_out, y)\n",
        "        return y\n",
        "\n",
        "    def call(self, inputs):\n",
        "        source = inputs[0]\n",
        "        target = inputs[1]\n",
        "        x = self.encoder(source)\n",
        "        y = self.decode(x, target)\n",
        "        return self.classifier(y)\n",
        "\n",
        "    @property\n",
        "    def metrics(self):\n",
        "        return [self.loss_metric]\n",
        "\n",
        "    @tf.function\n",
        "    def train_step(self, batch):\n",
        "        \"\"\"Processes one batch inside model.fit().\"\"\"\n",
        "        source = batch[\"source\"]\n",
        "        target = batch[\"target\"]\n",
        "        dec_input = target[:, :-1]\n",
        "        dec_target = target[:, 1:]\n",
        "        with tf.GradientTape() as tape:\n",
        "            preds = self([source, dec_input])\n",
        "            one_hot = tf.one_hot(dec_target, depth=self.num_classes)\n",
        "            mask = tf.math.logical_not(tf.math.equal(dec_target, 0))\n",
        "            loss = self.compiled_loss(one_hot, preds, sample_weight=mask)\n",
        "        trainable_vars = self.trainable_variables\n",
        "        gradients = tape.gradient(loss, trainable_vars)\n",
        "        self.optimizer.apply_gradients(zip(gradients, trainable_vars))\n",
        "        self.loss_metric.update_state(loss)\n",
        "        # Compute and update accuracy\n",
        "        self.accuracy_metric.update_state(dec_target, preds)\n",
        "        return {\"loss\": self.loss_metric.result(), \"accuracy\": self.accuracy_metric.result()}  # Include accuracy in the return value\n",
        "\n",
        "    def test_step(self, batch):\n",
        "        source = batch[\"source\"]\n",
        "        target = batch[\"target\"]\n",
        "        dec_input = target[:, :-1]\n",
        "        dec_target = target[:, 1:]\n",
        "        preds = self([source, dec_input])\n",
        "        # print('test preds', preds.numpy)\n",
        "        one_hot = tf.one_hot(dec_target, depth=self.num_classes)\n",
        "        mask = tf.math.logical_not(tf.math.equal(dec_target, 0))\n",
        "        loss = self.compiled_loss(one_hot, preds, sample_weight=mask)\n",
        "        self.loss_metric.update_state(loss)\n",
        "        # Compute and update accuracy\n",
        "        self.accuracy_metric.update_state(dec_target, preds)\n",
        "        return {\"loss\": self.loss_metric.result(), \"accuracy\": self.accuracy_metric.result()}  # Include accuracy in the return value\n",
        "\n",
        "    def generate(self, source, target_start_token_idx):\n",
        "        \"\"\"Performs inference over one batch of inputs using greedy decoding.\"\"\"\n",
        "        bs = tf.shape(source)[0]\n",
        "        enc = self.encoder(source)\n",
        "        dec_input = tf.ones((bs, 1), dtype=tf.int32) * target_start_token_idx\n",
        "        dec_logits = []\n",
        "        for i in range(self.target_maxlen - 1):\n",
        "            dec_out = self.decode(enc, dec_input)\n",
        "            logits = self.classifier(dec_out)\n",
        "            logits = tf.argmax(logits, axis=-1, output_type=tf.int32)\n",
        "            last_logit = tf.expand_dims(logits[:, -1], axis=-1)\n",
        "            dec_logits.append(last_logit)\n",
        "            dec_input = tf.concat([dec_input, last_logit], axis=-1)\n",
        "        return dec_input"
      ],
      "metadata": {
        "id": "VI7lzC8nCyf-"
      },
      "execution_count": null,
      "outputs": []
    },
    {
      "cell_type": "markdown",
      "source": [
        "## 5. Define schedulare"
      ],
      "metadata": {
        "id": "2ul6HKK6C5um"
      }
    },
    {
      "cell_type": "code",
      "source": [
        "class DisplayOutputs(keras.callbacks.Callback):\n",
        "    def __init__(\n",
        "        self, batch, idx_to_token, target_start_token_idx=27, target_end_token_idx=28\n",
        "    ):\n",
        "        \"\"\"Displays a batch of outputs after every epoch\n",
        "\n",
        "        Args:\n",
        "            batch: A test batch containing the keys \"source\" and \"target\"\n",
        "            idx_to_token: A List containing the vocabulary tokens corresponding to their indices\n",
        "            target_start_token_idx: A start token index in the target vocabulary\n",
        "            target_end_token_idx: An end token index in the target vocabulary\n",
        "        \"\"\"\n",
        "        self.batch = batch\n",
        "        self.target_start_token_idx = target_start_token_idx\n",
        "        self.target_end_token_idx = target_end_token_idx\n",
        "        self.idx_to_char = idx_to_token\n",
        "\n",
        "    def on_epoch_end(self, epoch, logs=None):\n",
        "        if epoch % 20 != 0:\n",
        "            return\n",
        "        self.batch = batch = next(iter(val_ds))\n",
        "        source = self.batch[\"source\"]\n",
        "        target = self.batch[\"target\"].numpy()\n",
        "        bs = tf.shape(source)[0]\n",
        "        preds = self.model.generate(source, self.target_start_token_idx)\n",
        "        preds = preds.numpy()\n",
        "        for i in range(bs):\n",
        "            target_text = \"\".join([self.idx_to_char[_] for _ in target[i, :]])\n",
        "            prediction = \"\"\n",
        "            # print(\"preds[i, :]\", preds[i, :])\n",
        "            for idx in preds[i, :]:\n",
        "                prediction += self.idx_to_char[idx]\n",
        "                if idx == self.target_end_token_idx:\n",
        "                    break\n",
        "            print(f\"target:     {target_text.replace('-','')}\")\n",
        "            print(f\"prediction: {prediction}\")"
      ],
      "metadata": {
        "id": "nNY_EZJuDDHL"
      },
      "execution_count": null,
      "outputs": []
    },
    {
      "cell_type": "markdown",
      "source": [
        "## 6. Define Loader"
      ],
      "metadata": {
        "id": "1gR-G46TDQMt"
      }
    },
    {
      "cell_type": "code",
      "source": [
        "class VectorizeChar:\n",
        "    def __init__(self, max_len=50):\n",
        "        self.vocab = (\n",
        "            [\"-\", \"#\", \"<\", \">\"]\n",
        "            + list(unique_chars)\n",
        "            # + [chr(i + 96) for i in range(1, 27)]\n",
        "            # + [\" \", \".\", \",\", \"?\"]\n",
        "        )\n",
        "        self.max_len = max_len\n",
        "        self.char_to_idx = {}\n",
        "        for i, ch in enumerate(self.vocab):\n",
        "            self.char_to_idx[ch] = i\n",
        "\n",
        "    def __call__(self, text):\n",
        "        # text = text.lower()\n",
        "        text = text[: self.max_len - 2]\n",
        "        text = \"<\" + text + \">\"\n",
        "        pad_len = self.max_len - len(text)\n",
        "        return [self.char_to_idx.get(ch, 1) for ch in text] + [0] * pad_len\n",
        "\n",
        "    def get_vocabulary(self):\n",
        "        return self.vocab\n",
        "\n",
        "\n",
        "# data = get_data(wavs, id_to_text, max_target_len)\n",
        "vectorizer = VectorizeChar(max_target_len)\n",
        "print(\"vocab size\", len(vectorizer.get_vocabulary()))"
      ],
      "metadata": {
        "id": "-lEMbsdUDUAe"
      },
      "execution_count": null,
      "outputs": []
    },
    {
      "cell_type": "code",
      "source": [
        "def create_text_ds(data):\n",
        "    texts = [_[\"text\"] for _ in data]\n",
        "    text_ds = [vectorizer(t) for t in texts]\n",
        "    text_ds = tf.data.Dataset.from_tensor_slices(text_ds)\n",
        "    return text_ds\n",
        "\n",
        "\n",
        "def path_to_audio(path):\n",
        "    # spectrogram using stft\n",
        "    audio = tf.io.read_file(path)\n",
        "    audio, _ = tf.audio.decode_wav(audio, 1)\n",
        "    # audio = tf.cast(tfio.audio.decode_flac(audio, dtype=tf.int16), tf.float32)\n",
        "    audio = tf.squeeze(audio, axis=-1)\n",
        "    stfts = tf.signal.stft(audio, frame_length=200, frame_step=80, fft_length=256)\n",
        "    x = tf.math.pow(tf.abs(stfts), 0.5)\n",
        "    audio_len = tf.shape(x)[0]\n",
        "    # padding to 10 seconds\n",
        "    pad_len = 1700 # 2754\n",
        "    paddings = tf.constant([[0, pad_len], [0, 0]])\n",
        "#     print('paddings shape:', tf.shape(paddings))\n",
        "    x = tf.pad(x, paddings, \"CONSTANT\")[:pad_len, :]\n",
        "#     print('final audio len:', tf.shape(x))\n",
        "    return x\n",
        "\n",
        "\n",
        "\n",
        "def create_audio_ds(data):\n",
        "    flist = [_[\"audio\"] for _ in data]\n",
        "    audio_ds = tf.data.Dataset.from_tensor_slices(flist)\n",
        "    audio_ds = audio_ds.map(\n",
        "        path_to_audio, num_parallel_calls=tf.data.AUTOTUNE\n",
        "    )\n",
        "    return audio_ds\n",
        "\n",
        "# @tf.function\n",
        "def create_tf_dataset(data, bs=4, val_data=False):\n",
        "    audio_ds = create_audio_ds(data)\n",
        "    text_ds = create_text_ds(data)\n",
        "    ds = tf.data.Dataset.zip((audio_ds, text_ds))\n",
        "    ds = ds.map(lambda x, y: {\"source\": x, \"target\": y})\n",
        "    # cashe data to RAM\n",
        "    ds = ds.cache()\n",
        "    # do shuffle\n",
        "    ds = ds.shuffle(1000)\n",
        "    ds = ds.batch(bs)\n",
        "    ds = ds.prefetch(tf.data.experimental.AUTOTUNE)\n",
        "    return ds\n",
        "\n",
        "data = data\n",
        "split = int(len(data) * 0.99)\n",
        "train_data = data\n",
        "test_data =  data[split:]\n",
        "# ds = create_tf_dataset(train_data, bs=400)\n",
        "ds = create_tf_dataset(train_data, bs=64)\n",
        "val_ds = create_tf_dataset(test_data, bs=64)"
      ],
      "metadata": {
        "id": "WjKUogBeDYs8"
      },
      "execution_count": null,
      "outputs": []
    },
    {
      "cell_type": "markdown",
      "source": [
        "## 7. Visualize data"
      ],
      "metadata": {
        "id": "Ue6f-lXqDkFX"
      }
    },
    {
      "cell_type": "code",
      "source": [
        "print(f\"Total test data: {len(test_data)}\")"
      ],
      "metadata": {
        "id": "pbwbfl_-DmJD"
      },
      "execution_count": null,
      "outputs": []
    },
    {
      "cell_type": "code",
      "source": [
        "import IPython\n",
        "import random\n",
        "for i in range(5):\n",
        "    idx = random.randint(0, len(train_data))\n",
        "    item = train_data[idx]\n",
        "    print(item[\"text\"])\n",
        "    IPython.display.display(IPython.display.Audio(item[\"audio\"]))"
      ],
      "metadata": {
        "id": "wTJ-ADI8Dqkn"
      },
      "execution_count": null,
      "outputs": []
    },
    {
      "cell_type": "code",
      "source": [
        "batch = next(iter(val_ds))\n",
        "\n",
        "# The vocabulary to convert predicted indices into characters\n",
        "idx_to_char = vectorizer.get_vocabulary()\n",
        "display_cb = DisplayOutputs(\n",
        "    batch, idx_to_char, target_start_token_idx=2, target_end_token_idx=3\n",
        ")  # set the arguments as per vocabulary index for '<' and '>'\n",
        "\n",
        "model = Transformer(\n",
        "    num_hid=128,\n",
        "    num_head=2,\n",
        "    num_feed_forward=256,\n",
        "    target_maxlen=max_target_len,\n",
        "    num_layers_enc=2,\n",
        "    num_layers_dec=1,\n",
        "    num_classes=len(vectorizer.get_vocabulary()) # 75 # 48 # 67 # 108,\n",
        ")\n",
        "loss_fn = tf.keras.losses.CategoricalCrossentropy(\n",
        "    from_logits=True, label_smoothing=0.1,\n",
        ")\n",
        "early_stopping = tf.keras.callbacks.EarlyStopping(\n",
        "    monitor='val_loss',  # Monitor validation loss\n",
        "    patience=3,  # Number of epochs with no improvement after which training will be stopped\n",
        "    restore_best_weights=True  # Restore model weights from the epoch with the best value\n",
        ")\n",
        "\n",
        "optimizer = keras.optimizers.Adam(lr=0.00005)\n",
        "model.compile(optimizer='adam', loss=loss_fn)"
      ],
      "metadata": {
        "id": "FuMVDYfLDthn"
      },
      "execution_count": null,
      "outputs": []
    },
    {
      "cell_type": "code",
      "source": [
        "model.summary()"
      ],
      "metadata": {
        "id": "mSSbXqISD8Xa"
      },
      "execution_count": null,
      "outputs": []
    },
    {
      "cell_type": "markdown",
      "source": [
        "## 8. Train"
      ],
      "metadata": {
        "id": "WDs95KzE9AyF"
      }
    },
    {
      "cell_type": "code",
      "source": [
        "model.load_weights('/content/drive/MyDrive/checkpoints/bangla_asr_done')"
      ],
      "metadata": {
        "id": "qPxdYF799F0f"
      },
      "execution_count": null,
      "outputs": []
    },
    {
      "cell_type": "code",
      "source": [
        "print(\"tf.executing_eagerly():\", tf.executing_eagerly())\n",
        "\n",
        "history = model.fit(ds, validation_data=val_ds,\n",
        "          epochs=10, callbacks=[early_stopping,display_cb])"
      ],
      "metadata": {
        "id": "Yv9esQxL9RXw"
      },
      "execution_count": null,
      "outputs": []
    },
    {
      "cell_type": "code",
      "source": [
        "model.save_weights('/content/drive/MyDrive/checkpoints/bangla_asr_done')"
      ],
      "metadata": {
        "id": "JB2c0Jd09Tz8"
      },
      "execution_count": null,
      "outputs": []
    },
    {
      "cell_type": "markdown",
      "source": [
        "## 9. Plot Performance"
      ],
      "metadata": {
        "id": "HB3Q9vtD98-d"
      }
    },
    {
      "cell_type": "code",
      "source": [
        "import matplotlib.pyplot as plt\n",
        "\n",
        "plt.plot(history.history['accuracy'], label='Training Accuracy')\n",
        "plt.plot(history.history['val_accuracy'], label='Validation Accuracy')\n",
        "plt.title('Model Accuracy Over Epochs')\n",
        "plt.xlabel('Epoch')\n",
        "plt.ylabel('Accuracy')\n",
        "plt.legend()\n",
        "plt.show()"
      ],
      "metadata": {
        "id": "DKPO8xhO9WDG"
      },
      "execution_count": null,
      "outputs": []
    },
    {
      "cell_type": "markdown",
      "source": [
        "## 10. Test"
      ],
      "metadata": {
        "id": "3aWXP-0R-A0A"
      }
    },
    {
      "cell_type": "code",
      "source": [
        "def predict(source, target_start_token_idx, target_maxlen):\n",
        "  \"\"\"Performs inference over one batch of inputs using greedy decoding.\"\"\"\n",
        "  bs = tf.shape(source)[0]\n",
        "  enc = model.encoder(source)\n",
        "  dec_input = tf.ones((bs, 1), dtype=tf.int32) * target_start_token_idx\n",
        "  dec_logits = []\n",
        "  for i in range(target_maxlen-1):\n",
        "    dec_out = model.decode(enc, dec_input)\n",
        "    logits = model.classifier(dec_out)\n",
        "    logits = tf.argmax(logits, axis=-1, output_type=tf.int32)\n",
        "    last_logit = tf.expand_dims(logits[:, -1], axis=-1)\n",
        "    dec_logits.append(last_logit)\n",
        "    dec_input = tf.concat([dec_input, last_logit], axis=-1)\n",
        "  return dec_input"
      ],
      "metadata": {
        "id": "Mm_qYpRr9ayH"
      },
      "execution_count": null,
      "outputs": []
    },
    {
      "cell_type": "code",
      "source": [
        "target_start_token_idx=2\n",
        "target_end_token_idx = 3\n",
        "idx_to_char = vectorizer.get_vocabulary()"
      ],
      "metadata": {
        "id": "-tm4m4nm-X5b"
      },
      "execution_count": null,
      "outputs": []
    },
    {
      "cell_type": "code",
      "source": [
        "from IPython import display as ipd"
      ],
      "metadata": {
        "id": "DFFGIyK--iv_"
      },
      "execution_count": null,
      "outputs": []
    },
    {
      "cell_type": "code",
      "source": [
        "for i, d in d.iterrows():\n",
        "    # take audio and it's actual text\n",
        "    audio, text = os.path.join(\"/content/drive/MyDrive/tests/\", d['audio']), d['text']\n",
        "    print(f\"Sample [ {i+1} ] target text: {text}\")\n",
        "    print(f\"Target audio: {audio}\")\n",
        "    ipd.display(ipd.Audio(audio))\n",
        "\n",
        "    target_audio = path_to_audio(audio)\n",
        "    target_audio = tf.expand_dims(target_audio, 0)\n",
        "    # perform prediction on given target audio file\n",
        "    preds = predict(target_audio, target_start_token_idx, target_maxlen=max_target_len)\n",
        "\n",
        "    preds = preds.numpy()[0]\n",
        "    prediction = []\n",
        "    for idx in preds:\n",
        "        prediction.append(idx_to_char[idx])\n",
        "        if idx == target_end_token_idx:\n",
        "            break\n",
        "\n",
        "    prediction = ''.join(prediction)\n",
        "    print(f\"prediction: {prediction}\")\n",
        "    print('-'*50)"
      ],
      "metadata": {
        "id": "mZ-KUlJt-maj"
      },
      "execution_count": null,
      "outputs": []
    }
  ],
  "metadata": {
    "accelerator": "GPU",
    "colab": {
      "gpuType": "T4",
      "provenance": []
    },
    "kernelspec": {
      "display_name": "Python 3",
      "name": "python3"
    },
    "language_info": {
      "name": "python"
    }
  },
  "nbformat": 4,
  "nbformat_minor": 0
}